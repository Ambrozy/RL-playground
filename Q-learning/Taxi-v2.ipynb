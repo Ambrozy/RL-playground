{
 "cells": [
  {
   "cell_type": "markdown",
   "metadata": {},
   "source": [
    "https://www.learndatasci.com/tutorials/reinforcement-q-learning-scratch-python-openai-gym/\n",
    "\n",
    "```\n",
    "Буквы - возможные остановки\n",
    "Фиолетовая буква - пассажир\n",
    "Синяя буква - куда пассажира доставить\n",
    "| - стена\n",
    ": - проезд\n",
    "```"
   ]
  },
  {
   "cell_type": "code",
   "execution_count": 3,
   "metadata": {
    "ExecuteTime": {
     "end_time": "2020-07-09T15:27:08.781045Z",
     "start_time": "2020-07-09T15:27:04.596045Z"
    }
   },
   "outputs": [
    {
     "name": "stdout",
     "output_type": "stream",
     "text": [
      "+---------+\n",
      "|R: | : :G|\n",
      "| : | : : |\n",
      "| :\u001b[43m \u001b[0m: : : |\n",
      "| | : | : |\n",
      "|\u001b[34;1mY\u001b[0m| : |\u001b[35mB\u001b[0m: |\n",
      "+---------+\n",
      "\n"
     ]
    }
   ],
   "source": [
    "import gym\n",
    "\n",
    "env = gym.make(\"Taxi-v3\").env\n",
    "\n",
    "env.render()"
   ]
  },
  {
   "cell_type": "code",
   "execution_count": 4,
   "metadata": {
    "ExecuteTime": {
     "end_time": "2020-07-09T15:31:12.941045Z",
     "start_time": "2020-07-09T15:31:12.933045Z"
    }
   },
   "outputs": [
    {
     "name": "stdout",
     "output_type": "stream",
     "text": [
      "+---------+\n",
      "|R: | : :\u001b[34;1mG\u001b[0m|\n",
      "| : | : : |\n",
      "| : : : : |\n",
      "| | : | : |\n",
      "|\u001b[35m\u001b[43mY\u001b[0m\u001b[0m| : |B: |\n",
      "+---------+\n",
      "\n",
      "Action Space Discrete(6)\n",
      "State Space Discrete(500)\n"
     ]
    }
   ],
   "source": [
    "env.reset() # reset environment to a new, random state\n",
    "env.render()\n",
    "\n",
    "### Возможные actions\n",
    "# 0 = south\n",
    "# 1 = north\n",
    "# 2 = east\n",
    "# 3 = west\n",
    "# 4 = pickup\n",
    "# 5 = dropoff\n",
    "print(\"Action Space {}\".format(env.action_space))\n",
    "print(\"State Space {}\".format(env.observation_space))"
   ]
  },
  {
   "cell_type": "code",
   "execution_count": 6,
   "metadata": {
    "ExecuteTime": {
     "end_time": "2020-07-09T15:37:42.431045Z",
     "start_time": "2020-07-09T15:37:42.427045Z"
    }
   },
   "outputs": [
    {
     "name": "stdout",
     "output_type": "stream",
     "text": [
      "State: 328\n",
      "+---------+\n",
      "|\u001b[35mR\u001b[0m: | : :G|\n",
      "| : | : : |\n",
      "| : : : : |\n",
      "| |\u001b[43m \u001b[0m: | : |\n",
      "|\u001b[34;1mY\u001b[0m| : |B: |\n",
      "+---------+\n",
      "\n"
     ]
    }
   ],
   "source": [
    "### Восстановление состояния\n",
    "state = env.encode(3, 1, 2, 0) # (taxi row, taxi column, passenger index, destination index)\n",
    "print(\"State:\", state)\n",
    "\n",
    "env.s = state\n",
    "env.render()"
   ]
  },
  {
   "cell_type": "code",
   "execution_count": 7,
   "metadata": {
    "ExecuteTime": {
     "end_time": "2020-07-09T15:38:46.678045Z",
     "start_time": "2020-07-09T15:38:46.663045Z"
    },
    "scrolled": true
   },
   "outputs": [
    {
     "data": {
      "text/plain": [
       "{0: [(1.0, 428, -1, False)],\n",
       " 1: [(1.0, 228, -1, False)],\n",
       " 2: [(1.0, 348, -1, False)],\n",
       " 3: [(1.0, 328, -1, False)],\n",
       " 4: [(1.0, 328, -10, False)],\n",
       " 5: [(1.0, 328, -10, False)]}"
      ]
     },
     "execution_count": 7,
     "metadata": {},
     "output_type": "execute_result"
    }
   ],
   "source": [
    "### Reward table for state 328\n",
    "env.P[328]\n",
    "# - 0: move south ↓\n",
    "# - 1: move north ↑\n",
    "# - 2: move east →\n",
    "# - 3: move west ←\n",
    "# - 4: pickup passenger\n",
    "# - 5: dropoff passenger"
   ]
  },
  {
   "cell_type": "code",
   "execution_count": 34,
   "metadata": {
    "ExecuteTime": {
     "end_time": "2020-07-09T16:33:03.067045Z",
     "start_time": "2020-07-09T16:33:02.894045Z"
    }
   },
   "outputs": [
    {
     "name": "stdout",
     "output_type": "stream",
     "text": [
      "Timesteps taken: 2386\n",
      "Penalties incurred: 744\n"
     ]
    }
   ],
   "source": [
    "### Solve without RL\n",
    "env.s = 328  # set environment to illustration's state\n",
    "\n",
    "epochs = 0\n",
    "penalties, reward = 0, 0\n",
    "\n",
    "frames = [] # for animation\n",
    "\n",
    "done = False\n",
    "\n",
    "while not done:\n",
    "    action = env.action_space.sample()\n",
    "    state, reward, done, info = env.step(action)\n",
    "\n",
    "    if reward == -10:\n",
    "        penalties += 1\n",
    "    \n",
    "    # Put each rendered frame into dict for animation\n",
    "    frames.append({\n",
    "        'frame': env.render(mode='ansi'),\n",
    "        'state': state,\n",
    "        'action': action,\n",
    "        'reward': reward\n",
    "        }\n",
    "    )\n",
    "\n",
    "    epochs += 1\n",
    "    \n",
    "    \n",
    "print(\"Timesteps taken: {}\".format(epochs))\n",
    "print(\"Penalties incurred: {}\".format(penalties))"
   ]
  },
  {
   "cell_type": "code",
   "execution_count": 35,
   "metadata": {
    "ExecuteTime": {
     "end_time": "2020-07-09T16:33:53.845045Z",
     "start_time": "2020-07-09T16:33:03.587045Z"
    }
   },
   "outputs": [
    {
     "name": "stdout",
     "output_type": "stream",
     "text": [
      "+---------+\n",
      "|\u001b[35m\u001b[34;1m\u001b[43mR\u001b[0m\u001b[0m\u001b[0m: | : :G|\n",
      "| : | : : |\n",
      "| : : : : |\n",
      "| | : | : |\n",
      "|Y| : |B: |\n",
      "+---------+\n",
      "  (Dropoff)\n",
      "\n",
      "Timestep: 2386\n",
      "State: 0\n",
      "Action: 5\n",
      "Reward: 20\n"
     ]
    }
   ],
   "source": [
    "from IPython.display import clear_output\n",
    "from time import sleep\n",
    "\n",
    "def print_frames(frames, timeout):\n",
    "    for i, frame in enumerate(frames):\n",
    "        clear_output(wait=True)\n",
    "        print(frame['frame'])\n",
    "        print(f\"Timestep: {i + 1}\")\n",
    "        print(f\"State: {frame['state']}\")\n",
    "        print(f\"Action: {frame['action']}\")\n",
    "        print(f\"Reward: {frame['reward']}\")\n",
    "        sleep(timeout)\n",
    "        \n",
    "print_frames(frames, .02)"
   ]
  },
  {
   "cell_type": "markdown",
   "metadata": {},
   "source": [
    "### Q-learning\n",
    "```\n",
    "Q(state,action)←(1−α)Q(state,action)+α(reward+γmaxaQ(next state,all actions))\n",
    "\n",
    "α (0≤γ≤1) - learning rate\n",
    "γ (0≤γ≤1) - важность будущих наград. Чем больше значение, тем долгосрочнее решение\n",
    "```\n",
    "#### Q-table\n",
    "```\n",
    "state, actions[0], actions[1], ..., actions[5]\n",
    "0|...\n",
    "1|...\n",
    "```"
   ]
  },
  {
   "cell_type": "code",
   "execution_count": 148,
   "metadata": {
    "ExecuteTime": {
     "end_time": "2020-07-09T18:28:39.006045Z",
     "start_time": "2020-07-09T18:28:38.995045Z"
    },
    "scrolled": true
   },
   "outputs": [],
   "source": [
    "\"\"\"Training the agent\"\"\"\n",
    "\n",
    "import random\n",
    "from IPython.display import clear_output\n",
    "import numpy as np\n",
    "\n",
    "class QLearning():\n",
    "    def __init__(self, alpha = 0.1, gamma = 0.6, epsilon = 0.1, n_train_epochs=100000):\n",
    "        self._alpha = alpha\n",
    "        self._gamma = gamma\n",
    "        self._epsilon = epsilon\n",
    "        self._n_train_epochs = n_train_epochs\n",
    "    \n",
    "    def fit(self, env):\n",
    "        self.q_table = np.zeros([env.observation_space.n, env.action_space.n])\n",
    "        \n",
    "        # For plotting metrics\n",
    "        all_epochs = []\n",
    "        all_penalties = []\n",
    "\n",
    "        for i in range(1, self._n_train_epochs + 1):\n",
    "            state = env.reset()\n",
    "\n",
    "            epochs, penalties, reward, = 0, 0, 0\n",
    "            done = False\n",
    "\n",
    "            while not done:\n",
    "                if random.uniform(0, 1) < self._epsilon:\n",
    "                    action = env.action_space.sample() # Explore action space\n",
    "                else:\n",
    "                    action = np.argmax(self.q_table[state]) # Exploit learned values\n",
    "\n",
    "                next_state, reward, done, info = env.step(action) \n",
    "\n",
    "                old_value = self.q_table[state, action]\n",
    "                next_max = np.max(self.q_table[next_state])\n",
    "\n",
    "                new_value = (1 - self._alpha) * old_value + self._alpha * (reward + self._gamma * next_max)\n",
    "                self.q_table[state, action] = new_value\n",
    "\n",
    "                if reward == -10:\n",
    "                    penalties += 1\n",
    "\n",
    "                state = next_state\n",
    "                epochs += 1\n",
    "\n",
    "            all_epochs.append(epochs)\n",
    "            all_penalties.append(penalties)\n",
    "            if i % 100 == 0:\n",
    "                clear_output(wait=True)\n",
    "                print(f\"Episode: {i}\")\n",
    "                print(f\"Mean epochs: {np.mean(epochs)}\")\n",
    "                print(f\"Mean penalties: {np.mean(penalties)}\")\n",
    "\n",
    "        self.all_epochs = all_epochs\n",
    "        self.all_penalties = all_penalties\n",
    "        print(\"Training finished.\\n\")\n",
    "    \n",
    "    def predict(self, state):\n",
    "        return np.argmax(self.q_table[state])"
   ]
  },
  {
   "cell_type": "code",
   "execution_count": 149,
   "metadata": {
    "ExecuteTime": {
     "end_time": "2020-07-09T18:29:19.428045Z",
     "start_time": "2020-07-09T18:28:39.573045Z"
    }
   },
   "outputs": [
    {
     "name": "stdout",
     "output_type": "stream",
     "text": [
      "Episode: 100000\n",
      "Mean epochs: 21.0\n",
      "Mean penalties: 1.0\n",
      "Training finished.\n",
      "\n"
     ]
    }
   ],
   "source": [
    "alg = QLearning(alpha = 0.1, gamma = 0.6, epsilon = 0.1, n_train_epochs=100000)\n",
    "alg.fit(env)"
   ]
  },
  {
   "cell_type": "code",
   "execution_count": 140,
   "metadata": {
    "ExecuteTime": {
     "end_time": "2020-07-09T18:16:45.777045Z",
     "start_time": "2020-07-09T18:16:45.771045Z"
    }
   },
   "outputs": [
    {
     "data": {
      "text/plain": [
       "0.2"
      ]
     },
     "execution_count": 140,
     "metadata": {},
     "output_type": "execute_result"
    }
   ],
   "source": [
    "(alg.q_table == 0).sum() / (alg.q_table.shape[0] * alg.q_table.shape[1])"
   ]
  },
  {
   "cell_type": "code",
   "execution_count": null,
   "metadata": {
    "ExecuteTime": {
     "end_time": "2020-07-09T18:11:41.616045Z",
     "start_time": "2020-07-09T18:11:18.431Z"
    }
   },
   "outputs": [],
   "source": [
    "import matplotlib.pyplot as plt\n",
    "import numpy as np\n",
    "\n",
    "step = 1000\n",
    "all_epochs = alg.all_epochs\n",
    "all_penalties = alg.all_penalties\n",
    "x = np.arange(0, len(all_epochs))\n",
    "new_x = np.arange(0, len(all_epochs), step)\n",
    "downsample_epochs = np.interp(new_x, x, all_epochs)\n",
    "downsample_penalties = np.interp(new_x, x, all_penalties)\n",
    "\n",
    "plt.figure(figsize=(9, 3))\n",
    "plt.subplot(121)\n",
    "plt.plot(new_x, downsample_epochs)\n",
    "plt.ylabel('Mean epochs')\n",
    "plt.xlabel('Epochs')\n",
    "\n",
    "plt.subplot(122)\n",
    "plt.plot(new_x, downsample_penalties)\n",
    "plt.ylabel('Mean penalties')\n",
    "plt.xlabel('Epochs')\n",
    "\n",
    "plt.show()"
   ]
  },
  {
   "cell_type": "code",
   "execution_count": 122,
   "metadata": {
    "ExecuteTime": {
     "end_time": "2020-07-09T18:06:25.177045Z",
     "start_time": "2020-07-09T18:06:25.171045Z"
    }
   },
   "outputs": [
    {
     "data": {
      "text/plain": [
       "array([ -2.38184385,  -2.27325184,  -2.3940772 ,  -2.35613418,\n",
       "       -10.20135252, -11.1688543 ])"
      ]
     },
     "execution_count": 122,
     "metadata": {},
     "output_type": "execute_result"
    }
   ],
   "source": [
    "alg.q_table[328]"
   ]
  },
  {
   "cell_type": "code",
   "execution_count": 132,
   "metadata": {
    "ExecuteTime": {
     "end_time": "2020-07-09T18:12:35.003045Z",
     "start_time": "2020-07-09T18:12:34.995045Z"
    }
   },
   "outputs": [
    {
     "name": "stdout",
     "output_type": "stream",
     "text": [
      "Timesteps taken: 12\n",
      "Penalties incurred: 0\n"
     ]
    }
   ],
   "source": [
    "\"\"\"Solve with Q-learning\"\"\"\n",
    "env.s = 328  # set environment to illustration's state\n",
    "\n",
    "epochs = 0\n",
    "penalties, reward = 0, 0\n",
    "\n",
    "frames = [] # for animation\n",
    "\n",
    "done = False\n",
    "\n",
    "while not done:\n",
    "    action = alg.predict(state)\n",
    "    state, reward, done, info = env.step(action)\n",
    "\n",
    "    if reward == -10:\n",
    "        penalties += 1\n",
    "    \n",
    "    # Put each rendered frame into dict for animation\n",
    "    frames.append({\n",
    "        'frame': env.render(mode='ansi'),\n",
    "        'state': state,\n",
    "        'action': action,\n",
    "        'reward': reward\n",
    "        }\n",
    "    )\n",
    "\n",
    "    epochs += 1\n",
    "    \n",
    "    \n",
    "print(\"Timesteps taken: {}\".format(epochs))\n",
    "print(\"Penalties incurred: {}\".format(penalties))"
   ]
  },
  {
   "cell_type": "code",
   "execution_count": 142,
   "metadata": {
    "ExecuteTime": {
     "end_time": "2020-07-09T18:22:33.760045Z",
     "start_time": "2020-07-09T18:22:28.952045Z"
    }
   },
   "outputs": [
    {
     "name": "stdout",
     "output_type": "stream",
     "text": [
      "+---------+\n",
      "|\u001b[35m\u001b[34;1m\u001b[43mR\u001b[0m\u001b[0m\u001b[0m: | : :G|\n",
      "| : | : : |\n",
      "| : : : : |\n",
      "| | : | : |\n",
      "|Y| : |B: |\n",
      "+---------+\n",
      "  (Dropoff)\n",
      "\n",
      "Timestep: 12\n",
      "State: 0\n",
      "Action: 5\n",
      "Reward: 20\n"
     ]
    }
   ],
   "source": [
    "print_frames(frames, .4)"
   ]
  },
  {
   "cell_type": "code",
   "execution_count": null,
   "metadata": {},
   "outputs": [],
   "source": []
  }
 ],
 "metadata": {
  "kernelspec": {
   "display_name": "Python 3",
   "language": "python",
   "name": "python3"
  },
  "language_info": {
   "codemirror_mode": {
    "name": "ipython",
    "version": 3
   },
   "file_extension": ".py",
   "mimetype": "text/x-python",
   "name": "python",
   "nbconvert_exporter": "python",
   "pygments_lexer": "ipython3",
   "version": "3.7.5"
  }
 },
 "nbformat": 4,
 "nbformat_minor": 4
}
